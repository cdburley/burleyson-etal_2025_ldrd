{
 "cells": [
  {
   "cell_type": "markdown",
   "id": "dd40f4f4-5a80-40b7-94b3-aed136daa9d8",
   "metadata": {},
   "source": [
    "# Plot Maps of the Service Territory for the Balancing Authorities Analyzed\n"
   ]
  },
  {
   "cell_type": "code",
   "execution_count": null,
   "id": "27e597e9-538f-41d4-afa9-a268b10ab1df",
   "metadata": {},
   "outputs": [],
   "source": [
    "# Start by importing the packages we need:\n",
    "import os\n",
    "import yaml\n",
    "\n",
    "import pandas as pd\n",
    "import geopandas as gpd\n",
    "import matplotlib.pyplot as plt\n",
    "\n",
    "from mpl_toolkits.axes_grid1 import make_axes_locatable\n"
   ]
  },
  {
   "cell_type": "markdown",
   "id": "795f6fe5-0769-4298-887e-7c4cffc64a0d",
   "metadata": {},
   "source": [
    "## Set the Directory Structure\n"
   ]
  },
  {
   "cell_type": "code",
   "execution_count": null,
   "id": "bd887600-32da-46dc-b411-fa63c75f564f",
   "metadata": {
    "pycharm": {
     "name": "#%%\n"
    }
   },
   "outputs": [],
   "source": [
    "# Identify the data and impage input and output directories:\n",
    "ba_mapping_data_input_directory = '/Users/burl878/Documents/Code/code_repos/burleyson-etal_2025_ldrd/data/ba_service_territory/'\n",
    "county_shapefile_input_directory = '/Users/burl878/Documents/Code/code_repos/burleyson-etal_2025_ldrd/data/county_shapefiles/'\n",
    "state_shapefile_input_directory = '/Users/burl878/Documents/Code/code_repos/burleyson-etal_2025_ldrd/data/state_shapefiles/'\n",
    "ba_to_process_input_directory = '/Users/burl878/Documents/Code/code_repos/burleyson-etal_2025_ldrd/data/'\n",
    "image_output_directory = '/Users/burl878/Documents/Code/code_repos/burleyson-etal_2025_ldrd/figures/'\n"
   ]
  },
  {
   "cell_type": "markdown",
   "id": "314cb875-63fd-4b37-b56f-04bbaec8cb25",
   "metadata": {},
   "source": [
    "## Set the List of Balancing Authorities to Plot\n",
    "\n",
    "BAs used in this analysis are controlled by a master file `balancing_authorities_modeled.yml` stored in the `/data` directory."
   ]
  },
  {
   "cell_type": "code",
   "execution_count": null,
   "id": "acf5bd30-7025-4de2-8818-c8f4a0242684",
   "metadata": {},
   "outputs": [],
   "source": [
    "# Read the yml file into a dictionary:\n",
    "with open((ba_to_process_input_directory + 'balancing_authority_modeled.yml'), 'r') as yml:\n",
    "     ba_list = yaml.load(yml, Loader=yaml.FullLoader)\n",
    "     bas = [i for i in ba_list.keys()]\n",
    "\n",
    "# Return the list of BAs to process/plot:\n",
    "bas\n"
   ]
  },
  {
   "cell_type": "markdown",
   "id": "0dc65f89-cd8f-4a78-9cb9-c93e4f6b91ac",
   "metadata": {},
   "source": [
    "## Create the Function to Plot the Service Territory for a Set of Balancing Authorities\n"
   ]
  },
  {
   "cell_type": "code",
   "execution_count": null,
   "id": "25f80ce4-437c-468a-ad72-02fe23b3fa22",
   "metadata": {},
   "outputs": [],
   "source": [
    "def plot_ba_service_territory(bas_to_plot: str, ba_mapping_data_input_directory: str, county_shapefile_input_directory: str, state_shapefile_input_directory: str,\n",
    "                              image_output_directory: str, image_resolution: int, save_images=False):\n",
    "    \n",
    "    # Read in the county shapefile and reassign the 'FIPS' variable as integers:\n",
    "    counties_df = gpd.read_file(os.path.join(county_shapefile_input_directory, r'tl_2020_us_county.shp')).rename(columns={'GEOID': 'County_FIPS'})\n",
    "    counties_df['County_FIPS'] = counties_df['County_FIPS'].astype(int)\n",
    "\n",
    "    # Read in the BA mapping file:\n",
    "    ba_mapping_df = pd.read_csv((os.path.join(ba_mapping_data_input_directory, 'ba_service_territory_2019.csv')), index_col=None, header=0)\n",
    "\n",
    "    # Merge the ba_mapping_df and counties_df together using county FIPS codes to join them:\n",
    "    counties_df = counties_df.merge(ba_mapping_df, on='County_FIPS', how='left')\n",
    "\n",
    "    # Subset to only the BA you want to plot:\n",
    "    counties_subset_df = counties_df.loc[counties_df['BA_Code'].isin(bas_to_plot)]\n",
    "    \n",
    "    # Read in the state shapefile:\n",
    "    states_df = gpd.read_file(os.path.join(state_shapefile_input_directory, 'tl_2020_us_state.shp')).rename(columns={'NAME': 'State'})\n",
    "    \n",
    "    # Create the figure:\n",
    "    fig, ax = plt.subplots(1, 1, figsize=(25, 10))\n",
    "    plt.rcParams['font.size'] = 18\n",
    "    ax1 = counties_subset_df.plot(ax=ax, column='BA_Code', edgecolor='black', linewidth=1, legend=True, legend_kwds={'loc': 'lower right'})\n",
    "    ax2 = states_df.boundary.plot(ax=ax, edgecolor='black', linewidth=1.5)\n",
    "    ax.set_xlim(-126.4, -66);\n",
    "    ax.set_xlabel('Longitude', fontsize=18); \n",
    "    ax.set_ylim(24, 50); \n",
    "    ax.set_ylabel('Latitude', fontsize=18);\n",
    "    ax.set_title('Approximate Balancing Authority Service Territory in 2019', fontsize=21)\n",
    "\n",
    "    # If the \"save_images\" flag is set to true then save the plot to a .png file:\n",
    "    if save_images == True:\n",
    "       plt.savefig(os.path.join(image_output_directory + 'BA_Service_Territory.png'), dpi=image_resolution, bbox_inches='tight')\n"
   ]
  },
  {
   "cell_type": "markdown",
   "id": "a60d7163-0129-4414-ba87-6b20e07cd937",
   "metadata": {},
   "source": [
    "## Make the Plot\n"
   ]
  },
  {
   "cell_type": "code",
   "execution_count": null,
   "id": "25c2d2d2-dadf-45cf-b0e1-40b8856595f9",
   "metadata": {},
   "outputs": [],
   "source": [
    "plot_ba_service_territory(bas_to_plot = bas,\n",
    "                          ba_mapping_data_input_directory = ba_mapping_data_input_directory, \n",
    "                          county_shapefile_input_directory = county_shapefile_input_directory,\n",
    "                          state_shapefile_input_directory = state_shapefile_input_directory,\n",
    "                          image_output_directory = image_output_directory, \n",
    "                          image_resolution = 300, \n",
    "                          save_images = True)\n"
   ]
  },
  {
   "cell_type": "code",
   "execution_count": null,
   "id": "2bc3da98-f78f-47f7-8d30-a828c595f6f5",
   "metadata": {},
   "outputs": [],
   "source": []
  }
 ],
 "metadata": {
  "kernelspec": {
   "display_name": "tell",
   "language": "python",
   "name": "tell"
  },
  "language_info": {
   "codemirror_mode": {
    "name": "ipython",
    "version": 3
   },
   "file_extension": ".py",
   "mimetype": "text/x-python",
   "name": "python",
   "nbconvert_exporter": "python",
   "pygments_lexer": "ipython3",
   "version": "3.10.8"
  }
 },
 "nbformat": 4,
 "nbformat_minor": 5
}
