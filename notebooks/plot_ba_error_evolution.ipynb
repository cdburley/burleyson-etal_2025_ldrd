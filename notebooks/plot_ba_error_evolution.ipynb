{
 "cells": [
  {
   "cell_type": "markdown",
   "id": "dd40f4f4-5a80-40b7-94b3-aed136daa9d8",
   "metadata": {},
   "source": [
    "# Plot the Evolution of Error Characteristics for a Given Balancing Authority"
   ]
  },
  {
   "cell_type": "code",
   "execution_count": null,
   "id": "27e597e9-538f-41d4-afa9-a268b10ab1df",
   "metadata": {},
   "outputs": [],
   "source": [
    "# Start by importing the packages we need:\n",
    "import os\n",
    "import datetime\n",
    "import yaml\n",
    "\n",
    "import pandas as pd\n",
    "import geopandas as gpd\n",
    "import matplotlib.pyplot as plt\n",
    "\n",
    "from glob import glob\n",
    "from matplotlib import pyplot \n",
    "from mpl_toolkits.axes_grid1 import make_axes_locatable\n"
   ]
  },
  {
   "cell_type": "markdown",
   "id": "795f6fe5-0769-4298-887e-7c4cffc64a0d",
   "metadata": {},
   "source": [
    "## Set the Directory Structure"
   ]
  },
  {
   "cell_type": "code",
   "execution_count": null,
   "id": "bd887600-32da-46dc-b411-fa63c75f564f",
   "metadata": {
    "pycharm": {
     "name": "#%%\n"
    }
   },
   "outputs": [],
   "source": [
    "# Identify the data input and image output directories:\n",
    "statistics_input_directory = '/Users/burl878/Documents/Code/code_repos/burleyson-etal_2025_ldrd/data/'\n",
    "ba_to_process_input_directory =  '/Users/burl878/Documents/Code/code_repos/burleyson-etal_2025_ldrd/data/'\n",
    "image_output_directory =  '/Users/burl878/Documents/Code/code_repos/burleyson-etal_2025_ldrd/figures/'\n"
   ]
  },
  {
   "cell_type": "markdown",
   "id": "13333904-d48e-4fdc-a1c1-a9a85b9eb929",
   "metadata": {},
   "source": [
    "## Set the List of Balancing Authorities to Analyze\n",
    "\n",
    "BAs used in this analysis are controlled by a master file `balancing_authorities_modeled.yml` stored in the `/data` directory."
   ]
  },
  {
   "cell_type": "code",
   "execution_count": null,
   "id": "56d2b5ea-9529-49d7-9409-3087056efe99",
   "metadata": {},
   "outputs": [],
   "source": [
    "# Read the yml file into a dictionary:\n",
    "with open((ba_to_process_input_directory + 'balancing_authority_modeled.yml'), 'r') as yml:\n",
    "     ba_list = yaml.load(yml, Loader=yaml.FullLoader)\n",
    "     bas = [i for i in ba_list.keys()]\n",
    "\n",
    "# Return the list of BAs to process/plot:\n",
    "bas\n"
   ]
  },
  {
   "cell_type": "markdown",
   "id": "e3d184bc-4193-4b2c-96b6-4a4a8d66824a",
   "metadata": {},
   "source": [
    "## Create a Function to Create the Quick Look Plot for a Given Balancing Authority\n"
   ]
  },
  {
   "cell_type": "code",
   "execution_count": null,
   "id": "086e395e-2bf9-4328-bb14-931b5cba7a61",
   "metadata": {},
   "outputs": [],
   "source": [
    "def plot_ba_error_evolution(ba_to_plot: str, statistics_input_directory: str, image_output_directory: str, image_resolution: int, save_images=False):\n",
    "    \n",
    "    # Read in the compiled statistics dataset created by the \"calculate_error_statistics.ipynb\" notebook:\n",
    "    stats_df = pd.read_csv((statistics_input_directory + 'Error_Statistics_Data.csv'))\n",
    "\n",
    "    # Subset the data to the BA you want to plot:\n",
    "    ba_df = stats_df.loc[(stats_df['BA'] == ba_to_plot)]\n",
    "\n",
    "    # Subset the data to individual models:\n",
    "    m1_df = ba_df.loc[(ba_df['Model'] == 'MLP1')]\n",
    "    m2_df = ba_df.loc[(ba_df['Model'] == 'MLP2')]\n",
    "    m3_df = ba_df.loc[(ba_df['Model'] == 'MLP3')]\n",
    "    m4_df = ba_df.loc[(ba_df['Model'] == 'MLP4')]\n",
    "    m5_df = ba_df.loc[(ba_df['Model'] == 'MLP5')]\n",
    "    m6_df = ba_df.loc[(ba_df['Model'] == 'MLP6')]\n",
    "\n",
    "    # Make the plot:\n",
    "    plt.figure(figsize=(35, 20))\n",
    "    plt.rcParams['font.size'] = 18\n",
    "    plt.subplot(221)\n",
    "    plt.grid(True)\n",
    "    plt.plot(m1_df['Year'], m1_df['RMS_ABS'], color='black', linestyle='-', label='MLP1 (T16-17)', linewidth=2)\n",
    "    plt.plot(m2_df['Year'], m2_df['RMS_ABS'], color='firebrick', linestyle='-', label='MLP2 (T17-18)', linewidth=2)\n",
    "    plt.plot(m3_df['Year'], m3_df['RMS_ABS'], color='darkorange', linestyle='-', label='MLP3 (T18-19)', linewidth=2)\n",
    "    plt.plot(m4_df['Year'], m4_df['RMS_ABS'], color='olivedrab', linestyle='-', label='MLP4 (T19-20)', linewidth=2)\n",
    "    plt.plot(m5_df['Year'], m5_df['RMS_ABS'], color='deepskyblue', linestyle='-', label='MLP5 (T20-21)', linewidth=2)\n",
    "    plt.plot(m6_df['Year'], m6_df['RMS_ABS'], color='blueviolet', linestyle='-', label='MLP6 (T21-22)', linewidth=2)\n",
    "    plt.scatter(m1_df['Year'], m1_df['RMS_ABS'], s=50, c='black')\n",
    "    plt.scatter(m2_df['Year'], m2_df['RMS_ABS'], s=50, c='firebrick')\n",
    "    plt.scatter(m3_df['Year'], m3_df['RMS_ABS'], s=50, c='darkorange')\n",
    "    plt.scatter(m4_df['Year'], m4_df['RMS_ABS'], s=50, c='olivedrab')\n",
    "    plt.scatter(m5_df['Year'], m5_df['RMS_ABS'], s=50, c='deepskyblue')\n",
    "    plt.scatter(m6_df['Year'], m6_df['RMS_ABS'], s=50, c='blueviolet')\n",
    "    plt.legend(loc='upper left', prop={'size': 15})\n",
    "    plt.xlim([2017.75, 2024.25])\n",
    "    plt.ylabel('Root-Mean-Squared Absolute Error [MWh]', fontsize=18)\n",
    "    plt.title(('RMS Absolute Error in ' + ba_to_plot), fontsize=21)\n",
    "    plt.title('a)', loc='left', fontsize=18)\n",
    "\n",
    "    plt.subplot(222)\n",
    "    plt.grid(True)\n",
    "    plt.plot(m1_df['Year'], m1_df['RMS_NORM'], color='black', linestyle='-', label='MLP1 (T16-17)', linewidth=2)\n",
    "    plt.plot(m2_df['Year'], m2_df['RMS_NORM'], color='firebrick', linestyle='-', label='MLP2 (T17-18)', linewidth=2)\n",
    "    plt.plot(m3_df['Year'], m3_df['RMS_NORM'], color='darkorange', linestyle='-', label='MLP3 (T18-19)', linewidth=2)\n",
    "    plt.plot(m4_df['Year'], m4_df['RMS_NORM'], color='olivedrab', linestyle='-', label='MLP4 (T19-20)', linewidth=2)\n",
    "    plt.plot(m5_df['Year'], m5_df['RMS_NORM'], color='deepskyblue', linestyle='-', label='MLP5 (T20-21)', linewidth=2)\n",
    "    plt.plot(m6_df['Year'], m6_df['RMS_NORM'], color='blueviolet', linestyle='-', label='MLP6 (T21-22)', linewidth=2)\n",
    "    plt.scatter(m1_df['Year'], m1_df['RMS_NORM'], s=50, c='black')\n",
    "    plt.scatter(m2_df['Year'], m2_df['RMS_NORM'], s=50, c='firebrick')\n",
    "    plt.scatter(m3_df['Year'], m3_df['RMS_NORM'], s=50, c='darkorange')\n",
    "    plt.scatter(m4_df['Year'], m4_df['RMS_NORM'], s=50, c='olivedrab')\n",
    "    plt.scatter(m5_df['Year'], m5_df['RMS_NORM'], s=50, c='deepskyblue')\n",
    "    plt.scatter(m6_df['Year'], m6_df['RMS_NORM'], s=50, c='blueviolet')\n",
    "    plt.legend(loc='upper left', prop={'size': 15})\n",
    "    plt.xlim([2017.75, 2024.25])\n",
    "    plt.ylabel('Root-Mean-Squared Normalized Error', fontsize=18)\n",
    "    plt.title(('RMS Normalized Error in ' + ba_to_plot), fontsize=21)\n",
    "    plt.title('b)', loc='left', fontsize=18)\n",
    "\n",
    "    plt.subplot(223)\n",
    "    plt.grid(True)\n",
    "    plt.plot(m1_df['Year'], m1_df['MAPE'], color='black', linestyle='-', label='MLP1 (T16-17)', linewidth=2)\n",
    "    plt.plot(m2_df['Year'], m2_df['MAPE'], color='firebrick', linestyle='-', label='MLP2 (T17-18)', linewidth=2)\n",
    "    plt.plot(m3_df['Year'], m3_df['MAPE'], color='darkorange', linestyle='-', label='MLP3 (T18-19)', linewidth=2)\n",
    "    plt.plot(m4_df['Year'], m4_df['MAPE'], color='olivedrab', linestyle='-', label='MLP4 (T19-20)', linewidth=2)\n",
    "    plt.plot(m5_df['Year'], m5_df['MAPE'], color='deepskyblue', linestyle='-', label='MLP5 (T20-21)', linewidth=2)\n",
    "    plt.plot(m6_df['Year'], m6_df['MAPE'], color='blueviolet', linestyle='-', label='MLP6 (T21-22)', linewidth=2)\n",
    "    plt.scatter(m1_df['Year'], m1_df['MAPE'], s=50, c='black')\n",
    "    plt.scatter(m2_df['Year'], m2_df['MAPE'], s=50, c='firebrick')\n",
    "    plt.scatter(m3_df['Year'], m3_df['MAPE'], s=50, c='darkorange')\n",
    "    plt.scatter(m4_df['Year'], m4_df['MAPE'], s=50, c='olivedrab')\n",
    "    plt.scatter(m5_df['Year'], m5_df['MAPE'], s=50, c='deepskyblue')\n",
    "    plt.scatter(m6_df['Year'], m6_df['MAPE'], s=50, c='blueviolet')\n",
    "    plt.legend(loc='upper left', prop={'size': 15})\n",
    "    plt.xlim([2017.75, 2024.25])\n",
    "    plt.ylabel('Mean Absolute Percentage Error', fontsize=18)\n",
    "    plt.title(('MAPE in ' + ba_to_plot), fontsize=21)\n",
    "    plt.title('c)', loc='left', fontsize=18)\n",
    "\n",
    "    plt.subplot(224)\n",
    "    plt.grid(True)\n",
    "    plt.plot(m1_df['Year'], m1_df['R2'], color='black', linestyle='-', label='MLP1 (T16-17)', linewidth=2)\n",
    "    plt.plot(m2_df['Year'], m2_df['R2'], color='firebrick', linestyle='-', label='MLP2 (T17-18)', linewidth=2)\n",
    "    plt.plot(m3_df['Year'], m3_df['R2'], color='darkorange', linestyle='-', label='MLP3 (T18-19)', linewidth=2)\n",
    "    plt.plot(m4_df['Year'], m4_df['R2'], color='olivedrab', linestyle='-', label='MLP4 (T19-20)', linewidth=2)\n",
    "    plt.plot(m5_df['Year'], m5_df['R2'], color='deepskyblue', linestyle='-', label='MLP5 (T20-21)', linewidth=2)\n",
    "    plt.plot(m6_df['Year'], m6_df['R2'], color='blueviolet', linestyle='-', label='MLP6 (T21-22)', linewidth=2)\n",
    "    plt.scatter(m1_df['Year'], m1_df['R2'], s=50, c='black')\n",
    "    plt.scatter(m2_df['Year'], m2_df['R2'], s=50, c='firebrick')\n",
    "    plt.scatter(m3_df['Year'], m3_df['R2'], s=50, c='darkorange')\n",
    "    plt.scatter(m4_df['Year'], m4_df['R2'], s=50, c='olivedrab')\n",
    "    plt.scatter(m5_df['Year'], m5_df['R2'], s=50, c='deepskyblue')\n",
    "    plt.scatter(m6_df['Year'], m6_df['R2'], s=50, c='blueviolet')\n",
    "    plt.legend(loc='lower left', prop={'size': 15})\n",
    "    plt.xlim([2017.75, 2024.25])\n",
    "    plt.ylim([(ba_df['R2'].min()-0.05), 1])\n",
    "    plt.ylabel('Coefficient of Determination', fontsize=18)\n",
    "    plt.title(('R2 in ' + ba_to_plot), fontsize=21)\n",
    "    plt.title('d)', loc='left', fontsize=18)\n",
    "    \n",
    "    # If the \"save_images\" flag is set to true then save the plot to a .png file:\n",
    "    if save_images == True:\n",
    "       plt.savefig(os.path.join(image_output_directory + 'BA_Error_Evolution_' + ba_to_plot + '.png'), dpi=image_resolution, bbox_inches='tight')\n",
    "       plt.close()\n"
   ]
  },
  {
   "cell_type": "markdown",
   "id": "858579a4-ac3b-43d6-836c-90bfba64c68b",
   "metadata": {},
   "source": [
    "## Make the Plot\n"
   ]
  },
  {
   "cell_type": "code",
   "execution_count": null,
   "id": "18593f25-974f-47b6-ac17-a04ffec75d1b",
   "metadata": {},
   "outputs": [],
   "source": [
    "# Loop over the BAs and make the plot for each one:\n",
    "for ba in bas:\n",
    "    plot_ba_error_evolution(ba_to_plot = ba,\n",
    "                            statistics_input_directory = statistics_input_directory,\n",
    "                            image_output_directory = image_output_directory, \n",
    "                            image_resolution = 300, \n",
    "                            save_images = True)\n"
   ]
  },
  {
   "cell_type": "code",
   "execution_count": null,
   "id": "65946d4b-d6d5-4937-a3ac-92aad7aa291e",
   "metadata": {},
   "outputs": [],
   "source": []
  }
 ],
 "metadata": {
  "kernelspec": {
   "display_name": "tell",
   "language": "python",
   "name": "tell"
  },
  "language_info": {
   "codemirror_mode": {
    "name": "ipython",
    "version": 3
   },
   "file_extension": ".py",
   "mimetype": "text/x-python",
   "name": "python",
   "nbconvert_exporter": "python",
   "pygments_lexer": "ipython3",
   "version": "3.10.8"
  }
 },
 "nbformat": 4,
 "nbformat_minor": 5
}
