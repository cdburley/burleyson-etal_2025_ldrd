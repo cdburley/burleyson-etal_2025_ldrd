{
 "cells": [
  {
   "cell_type": "markdown",
   "id": "dd40f4f4-5a80-40b7-94b3-aed136daa9d8",
   "metadata": {},
   "source": [
    "# Plot Maps of the Service Territory for the Balancing Authorities in the Statinonarity Analysis\n"
   ]
  },
  {
   "cell_type": "code",
   "execution_count": 1,
   "id": "27e597e9-538f-41d4-afa9-a268b10ab1df",
   "metadata": {},
   "outputs": [],
   "source": [
    "# Start by importing the packages we need:\n",
    "import os\n",
    "\n",
    "import pandas as pd\n",
    "import geopandas as gpd\n",
    "import matplotlib.pyplot as plt\n",
    "\n",
    "from mpl_toolkits.axes_grid1 import make_axes_locatable\n"
   ]
  },
  {
   "cell_type": "markdown",
   "id": "795f6fe5-0769-4298-887e-7c4cffc64a0d",
   "metadata": {},
   "source": [
    "## Set the Directory Structure\n"
   ]
  },
  {
   "cell_type": "code",
   "execution_count": null,
   "id": "bd887600-32da-46dc-b411-fa63c75f564f",
   "metadata": {
    "pycharm": {
     "name": "#%%\n"
    }
   },
   "outputs": [],
   "source": [
    "# Identify the data input and image output directories:\n",
    "ba_mapping_data_input_dir =  '/Users/burl878/Documents/Code/code_repos/tell/tell/tell_data/tell_quickstarter_data/outputs/ba_service_territory/'\n",
    "county_shapefile_input_dir = '/Users/burl878/Documents/Code/code_repos/tell/tell/tell_data/tell_raw_data/County_Shapefiles/'\n",
    "state_shapefile_input_dir = '/Users/burl878/Documents/Code/code_repos/tell/tell/tell_data/tell_raw_data/State_Shapefiles/'\n",
    "image_output_dir =  '/Users/burl878/Documents/Code/code_repos/burleyson-etal_2024_applied_energy/figures/Balancing_Authorities/'\n"
   ]
  },
  {
   "cell_type": "markdown",
   "id": "0dc65f89-cd8f-4a78-9cb9-c93e4f6b91ac",
   "metadata": {},
   "source": [
    "## Create the Function to Plot the Service Territory for a Given BA\n"
   ]
  },
  {
   "cell_type": "code",
   "execution_count": null,
   "id": "25f80ce4-437c-468a-ad72-02fe23b3fa22",
   "metadata": {},
   "outputs": [],
   "source": [
    "def plot_ba_service_territory(ba_to_plot: str, data_input_dir: str, image_output_dir: str, image_resolution: int, save_images=False):\n",
    "    \n",
    "    # Read in the county shapefile and reassign the 'FIPS' variable as integers:\n",
    "    counties_df = gpd.read_file(os.path.join(data_input_dir, r'county_shapefiles', r'tl_2020_us_county.shp')).rename(columns={'GEOID': 'County_FIPS'})\n",
    "    counties_df['County_FIPS'] = counties_df['County_FIPS'].astype(int)\n",
    "\n",
    "    # Read in the BA mapping file:\n",
    "    ba_mapping_df = pd.read_csv((os.path.join(data_input_dir, 'BA_Service_Territory.csv')), index_col=None, header=0)\n",
    "\n",
    "    # Merge the ba_mapping_df and counties_df together using county FIPS codes to join them:\n",
    "    counties_df = counties_df.merge(ba_mapping_df, on='County_FIPS', how='left')\n",
    "\n",
    "    # Subset to only the BA you want to plot:\n",
    "    counties_subset_df = counties_df.loc[counties_df['BA_Code'] == ba_to_plot]\n",
    "    \n",
    "    # Read in the state shapefile:\n",
    "    states_df = gpd.read_file(os.path.join(data_input_dir, r'state_shapefiles', 'tl_2022_us_state.shp')).rename(columns={'NAME': 'State'})\n",
    "    \n",
    "    # Create the figure:\n",
    "    fig, ax = plt.subplots(1, 1, figsize=(25, 10))\n",
    "    plt.rcParams['font.size'] = 18\n",
    "    ax1 = counties_subset_df.plot(ax=ax, edgecolor='black', linewidth=1)\n",
    "    ax2 = states_df.boundary.plot(ax=ax, edgecolor='black', linewidth=1.5)\n",
    "    ax.set_xlim(-126.5, -66);\n",
    "    ax.set_xlabel('Longitude', fontsize=18); \n",
    "    ax.set_ylim(24, 50); \n",
    "    ax.set_ylabel('Latitude', fontsize=18);\n",
    "    ax.set_title((ba_to_plot + ' Service Territory'), fontsize=21)\n",
    "\n",
    "    # If the \"save_images\" flag is set to true then save the plot to a .png file:\n",
    "    if save_images == True:\n",
    "       plt.savefig(os.path.join(image_output_dir + 'BA_Service_Territory_' + ba_to_plot + '.png'), dpi=image_resolution, bbox_inches='tight')\n",
    "       plt.close()\n"
   ]
  },
  {
   "cell_type": "markdown",
   "id": "a60d7163-0129-4414-ba87-6b20e07cd937",
   "metadata": {},
   "source": [
    "## Loop over the BAs and Make the Plot\n"
   ]
  },
  {
   "cell_type": "code",
   "execution_count": null,
   "id": "25c2d2d2-dadf-45cf-b0e1-40b8856595f9",
   "metadata": {},
   "outputs": [],
   "source": [
    "# Read in the BA-to-interconnection mapping file:\n",
    "ba_mapping_df = pd.read_csv((os.path.join(data_input_dir, 'BA_to_Interconnection_Mapping.csv')), index_col=None, header=0)\n",
    "    \n",
    "# Make a list of all of the BAs in the 'output_df' created above:\n",
    "bas = ba_mapping_df['BA_Code'].unique()\n",
    "         \n",
    "# Loop over the BAs and make the plot for each BA:\n",
    "for i in range(len(bas)):\n",
    "    plot_ba_service_territory(ba_to_plot = bas[i],\n",
    "                              data_input_dir = data_input_dir, \n",
    "                              image_output_dir = image_output_dir, \n",
    "                              image_resolution = 100, \n",
    "                              save_images = True)\n"
   ]
  },
  {
   "cell_type": "code",
   "execution_count": null,
   "id": "2bc3da98-f78f-47f7-8d30-a828c595f6f5",
   "metadata": {},
   "outputs": [],
   "source": []
  }
 ],
 "metadata": {
  "kernelspec": {
   "display_name": "tell",
   "language": "python",
   "name": "tell"
  },
  "language_info": {
   "codemirror_mode": {
    "name": "ipython",
    "version": 3
   },
   "file_extension": ".py",
   "mimetype": "text/x-python",
   "name": "python",
   "nbconvert_exporter": "python",
   "pygments_lexer": "ipython3",
   "version": "3.10.8"
  }
 },
 "nbformat": 4,
 "nbformat_minor": 5
}
